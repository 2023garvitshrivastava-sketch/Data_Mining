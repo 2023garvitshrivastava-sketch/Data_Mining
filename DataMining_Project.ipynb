{
  "nbformat": 4,
  "nbformat_minor": 0,
  "metadata": {
    "colab": {
      "provenance": [],
      "authorship_tag": "ABX9TyOxvxyGlShfMwwTblX82VX0",
      "include_colab_link": true
    },
    "kernelspec": {
      "name": "python3",
      "display_name": "Python 3"
    },
    "language_info": {
      "name": "python"
    }
  },
  "cells": [
    {
      "cell_type": "markdown",
      "metadata": {
        "id": "view-in-github",
        "colab_type": "text"
      },
      "source": [
        "<a href=\"https://colab.research.google.com/github/2023garvitshrivastava-sketch/Data_Mining/blob/main/DataMining_Project.ipynb\" target=\"_parent\"><img src=\"https://colab.research.google.com/assets/colab-badge.svg\" alt=\"Open In Colab\"/></a>"
      ]
    },
    {
      "cell_type": "code",
      "execution_count": 1,
      "metadata": {
        "id": "0yr2Vh1ciyla"
      },
      "outputs": [],
      "source": [
        "import pandas as pd\n",
        "import numpy as np\n",
        "import matplotlib.pyplot as plt\n",
        "import seaborn as sns\n",
        "from mlxtend.frequent_patterns import apriori, association_rules\n",
        "from mlxtend.preprocessing import TransactionEncoder\n",
        "from collections import defaultdict\n",
        "import random\n",
        "\n",
        "# Set random seed for reproducibility\n",
        "random.seed(42)\n",
        "np.random.seed(42)\n",
        "import warnings\n",
        "\n",
        "# Ignore all deprecation warnings\n",
        "warnings.filterwarnings(\"ignore\", category=DeprecationWarning)\n"
      ]
    },
    {
      "cell_type": "code",
      "source": [
        "def load_with_sampling(file_path, sample_fraction=0.1, nrows=None):\n",
        "    \"\"\"Load only a sample of large datasets\"\"\"\n",
        "    try:\n",
        "        # First, get the total number of rows to sample appropriately\n",
        "        if nrows is None:\n",
        "            nrows = int(pd.read_csv(file_path, nrows=1) * sample_fraction)\n",
        "\n",
        "        return pd.read_csv(file_path, nrows=nrows)\n",
        "    except:\n",
        "        # Fallback: use skiprows for very large files\n",
        "        total_rows = sum(1 for line in open(file_path)) - 1  # minus header\n",
        "        skip_rows = random.sample(range(1, total_rows), int(total_rows * (1-sample_fraction)))\n",
        "        return pd.read_csv(file_path, skiprows=skip_rows)\n",
        "\n",
        "# Load datasets directly (they're already in your Colab environment)\n",
        "print(\"Loading datasets from Colab environment...\")\n",
        "orders = pd.read_csv('orders.csv')\n",
        "order_products_prior = pd.read_csv('order_products__prior.csv')\n",
        "products = pd.read_csv('products.csv')\n",
        "departments = pd.read_csv('departments.csv')\n",
        "\n",
        "print(\"Datasets loaded successfully!\")\n",
        "print(f\"Orders shape: {orders.shape}\")\n",
        "print(f\"Order Products Prior shape: {order_products_prior.shape}\")\n",
        "print(f\"Products shape: {products.shape}\")\n",
        "print(f\"Departments shape: {departments.shape}\")"
      ],
      "metadata": {
        "colab": {
          "base_uri": "https://localhost:8080/"
        },
        "id": "xHN9qu5Ti_-N",
        "outputId": "346de79d-ba72-44ef-db6c-1195b104929a"
      },
      "execution_count": 2,
      "outputs": [
        {
          "output_type": "stream",
          "name": "stdout",
          "text": [
            "Loading datasets from Colab environment...\n",
            "Datasets loaded successfully!\n",
            "Orders shape: (3421083, 7)\n",
            "Order Products Prior shape: (32434489, 4)\n",
            "Products shape: (49688, 4)\n",
            "Departments shape: (21, 2)\n"
          ]
        }
      ]
    },
    {
      "cell_type": "code",
      "source": [
        "# Sample users to reduce data size further\n",
        "def sample_users(orders_df, user_sample_fraction=0.3):\n",
        "    \"\"\"Sample a subset of users to reduce transaction volume\"\"\"\n",
        "    unique_users = orders_df['user_id'].unique()\n",
        "    sampled_users = np.random.choice(unique_users,\n",
        "                                   size=int(len(unique_users) * user_sample_fraction),\n",
        "                                   replace=False)\n",
        "    return orders_df[orders_df['user_id'].isin(sampled_users)]\n",
        "\n",
        "# Sample users before merging\n",
        "print(\"Sampling users to reduce data size...\")\n",
        "orders_sampled = sample_users(orders, user_sample_fraction=0.3)\n",
        "\n",
        "def create_efficient_hierarchy(orders_sampled, order_products_prior, products, departments):\n",
        "    \"\"\"Create hierarchical data efficiently with sampling\"\"\"\n",
        "\n",
        "    # Merge in stages with sampled data\n",
        "    print(\"Merging product information...\")\n",
        "    order_products_sampled = order_products_prior[order_products_prior['order_id'].isin(orders_sampled['order_id'])]\n",
        "\n",
        "    # Merge with product info\n",
        "    product_info = products[['product_id', 'product_name', 'department_id']]\n",
        "    order_details = order_products_sampled.merge(product_info, on='product_id', how='inner')\n",
        "\n",
        "    # Merge with department info\n",
        "    dept_info = departments[['department_id', 'department']]\n",
        "    order_details = order_details.merge(dept_info, on='department_id', how='left')\n",
        "\n",
        "    # Merge with order info (only user_id needed)\n",
        "    order_user_info = orders_sampled[['order_id', 'user_id']]\n",
        "    order_details = order_details.merge(order_user_info, on='order_id', how='left')\n",
        "\n",
        "    return order_details\n",
        "\n",
        "# Create efficient hierarchy\n",
        "order_hierarchy = create_efficient_hierarchy(orders_sampled, order_products_prior, products, departments)\n",
        "\n",
        "print(f\"Final hierarchical dataset shape: {order_hierarchy.shape}\")\n",
        "print(f\"Memory usage: {order_hierarchy.memory_usage(deep=True).sum() / 1024**2:.2f} MB\")"
      ],
      "metadata": {
        "colab": {
          "base_uri": "https://localhost:8080/"
        },
        "id": "9qKxuwYYkn51",
        "outputId": "19de4a2e-a894-443d-b7c3-bca3664a5cb6"
      },
      "execution_count": 3,
      "outputs": [
        {
          "output_type": "stream",
          "name": "stdout",
          "text": [
            "Sampling users to reduce data size...\n",
            "Merging product information...\n",
            "Final hierarchical dataset shape: (9818505, 8)\n",
            "Memory usage: 1677.41 MB\n"
          ]
        }
      ]
    },
    {
      "cell_type": "code",
      "source": [
        "# Extract brand information efficiently\n",
        "def extract_brand_efficient(product_name):\n",
        "    \"\"\"Efficient brand extraction\"\"\"\n",
        "    if pd.isna(product_name):\n",
        "        return 'Unknown'\n",
        "    return str(product_name).split()[0] if len(str(product_name).split()) > 0 else 'Unknown'\n",
        "\n",
        "# Add brand information\n",
        "order_hierarchy['brand'] = order_hierarchy['product_name'].apply(extract_brand_efficient)\n",
        "\n",
        "# Remove duplicates and clean data\n",
        "order_hierarchy = order_hierarchy.drop_duplicates()\n",
        "print(f\"Data shape after deduplication: {order_hierarchy.shape}\")"
      ],
      "metadata": {
        "colab": {
          "base_uri": "https://localhost:8080/"
        },
        "id": "yNluEf42kwxj",
        "outputId": "ae8b1e12-a3f8-4a42-c52a-c3c59cb9da3a"
      },
      "execution_count": 4,
      "outputs": [
        {
          "output_type": "stream",
          "name": "stdout",
          "text": [
            "Data shape after deduplication: (9818505, 9)\n"
          ]
        }
      ]
    },
    {
      "cell_type": "code",
      "source": [
        "def prepare_efficient_transactions_fast(order_hierarchy, level='all', user_sample_fraction=1.0):\n",
        "    \"\"\"MUCH FASTER version using groupby and vectorized operations\"\"\"\n",
        "\n",
        "    # Sample users first (much faster)\n",
        "    if user_sample_fraction < 1.0:\n",
        "        unique_users = order_hierarchy['user_id'].unique()\n",
        "        sampled_users = np.random.choice(unique_users,\n",
        "                                       size=int(len(unique_users) * user_sample_fraction),\n",
        "                                       replace=False)\n",
        "        order_subset = order_hierarchy[order_hierarchy['user_id'].isin(sampled_users)].copy()\n",
        "    else:\n",
        "        order_subset = order_hierarchy.copy()\n",
        "\n",
        "    print(f\"Processing {len(order_subset)} rows for {level} level...\")\n",
        "\n",
        "    # Pre-compute the item strings\n",
        "    if level == 'department' or level == 'all':\n",
        "        order_subset['dept_item'] = 'DEPT_' + order_subset['department'].astype(str)\n",
        "\n",
        "    if level == 'brand' or level == 'all':\n",
        "        order_subset['brand_item'] = 'BRAND_' + order_subset['brand'].astype(str)\n",
        "\n",
        "    if level == 'product' or level == 'all':\n",
        "        order_subset['prod_item'] = 'PROD_' + order_subset['product_name'].astype(str).str[:30]\n",
        "\n",
        "    # Use groupby which is MUCH faster than iterrows\n",
        "    transactions_by_user = {}\n",
        "\n",
        "    if level == 'department':\n",
        "        transactions = order_subset.groupby('user_id')['dept_item'].apply(set).tolist()\n",
        "    elif level == 'brand':\n",
        "        transactions = order_subset.groupby('user_id')['brand_item'].apply(set).tolist()\n",
        "    elif level == 'product':\n",
        "        transactions = order_subset.groupby('user_id')['prod_item'].apply(set).tolist()\n",
        "    else:  # 'all' levels\n",
        "        # Combine all levels\n",
        "        def combine_all_items(group):\n",
        "            items = set()\n",
        "            if 'dept_item' in group:\n",
        "                items.update(group['dept_item'].unique())\n",
        "            if 'brand_item' in group:\n",
        "                items.update(group['brand_item'].unique())\n",
        "            if 'prod_item' in group:\n",
        "                items.update(group['prod_item'].unique())\n",
        "            return items\n",
        "\n",
        "        transactions = order_subset.groupby('user_id').apply(combine_all_items).tolist()\n",
        "\n",
        "    # Filter out transactions with only 1 item\n",
        "    transactions_list = [list(items) for items in transactions if len(items) > 1]\n",
        "\n",
        "    print(f\"Generated {len(transactions_list)} transactions for {level} level\")\n",
        "    return transactions_list\n",
        "\n",
        "# Use the FAST version instead\n",
        "print(\"Preparing transactions with FAST method...\")\n",
        "transactions_department = prepare_efficient_transactions_fast(order_hierarchy, 'department', user_sample_fraction=0.5)\n",
        "transactions_brand = prepare_efficient_transactions_fast(order_hierarchy, 'brand', user_sample_fraction=0.5)\n",
        "transactions_product = prepare_efficient_transactions_fast(order_hierarchy, 'product', user_sample_fraction=0.3)\n",
        "transactions_all_levels = prepare_efficient_transactions_fast(order_hierarchy, 'all', user_sample_fraction=0.4)\n",
        "\n",
        "print(f\"Transaction counts - Dept: {len(transactions_department)}, Brand: {len(transactions_brand)}, Product: {len(transactions_product)}, All: {len(transactions_all_levels)}\")"
      ],
      "metadata": {
        "colab": {
          "base_uri": "https://localhost:8080/"
        },
        "id": "jFD5xBWyk7S7",
        "outputId": "4816cd20-fbf5-4172-82a3-fabb1c6b7018"
      },
      "execution_count": 5,
      "outputs": [
        {
          "output_type": "stream",
          "name": "stdout",
          "text": [
            "Preparing transactions with FAST method...\n",
            "Processing 4918813 rows for department level...\n",
            "Generated 30736 transactions for department level\n",
            "Processing 4925569 rows for brand level...\n",
            "Generated 30870 transactions for brand level\n",
            "Processing 2925857 rows for product level...\n",
            "Generated 18523 transactions for product level\n",
            "Processing 3898033 rows for all level...\n",
            "Generated 24744 transactions for all level\n",
            "Transaction counts - Dept: 30736, Brand: 30870, Product: 18523, All: 24744\n"
          ]
        }
      ]
    },
    {
      "cell_type": "code",
      "source": [
        "def mine_ultra_conservative_rules(transactions, level_name, min_support=0.05, min_confidence=0.5, max_items=2, sample_size=1000):\n",
        "    \"\"\"ULTRA CONSERVATIVE rule mining to prevent crashes\"\"\"\n",
        "\n",
        "    if len(transactions) == 0:\n",
        "        print(f\"No transactions for {level_name} level\")\n",
        "        return pd.DataFrame(), pd.DataFrame()\n",
        "\n",
        "    # Aggressive sampling\n",
        "    if len(transactions) > sample_size:\n",
        "        transactions = random.sample(transactions, sample_size)\n",
        "        print(f\"Sampled down to {len(transactions)} transactions for {level_name}\")\n",
        "\n",
        "    # Further reduce transaction size by limiting items per transaction\n",
        "    trimmed_transactions = []\n",
        "    for transaction in transactions:\n",
        "        if len(transaction) > 10:  # Limit to 10 items per transaction\n",
        "            trimmed_transactions.append(random.sample(transaction, 10))\n",
        "        else:\n",
        "            trimmed_transactions.append(transaction)\n",
        "\n",
        "    transactions = trimmed_transactions\n",
        "\n",
        "    try:\n",
        "        # Use TransactionEncoder\n",
        "        te = TransactionEncoder()\n",
        "        te_ary = te.fit(transactions).transform(transactions)\n",
        "        df = pd.DataFrame(te_ary, columns=te.columns_)\n",
        "\n",
        "        print(f\"{level_name} - Transaction matrix: {df.shape}\")\n",
        "\n",
        "        # Use higher min_support to reduce itemsets\n",
        "        frequent_itemsets = apriori(df,\n",
        "                                  min_support=min_support,\n",
        "                                  use_colnames=True,\n",
        "                                  max_len=max_items)\n",
        "\n",
        "        print(f\"{level_name} - Found {len(frequent_itemsets)} frequent itemsets\")\n",
        "\n",
        "        if len(frequent_itemsets) > 0:\n",
        "            rules = association_rules(frequent_itemsets,\n",
        "                                    metric=\"confidence\",\n",
        "                                    min_threshold=min_confidence)\n",
        "            rules = rules.head(50)  # Limit rules\n",
        "            print(f\"{level_name} - Generated {len(rules)} rules\")\n",
        "        else:\n",
        "            rules = pd.DataFrame()\n",
        "            print(f\"{level_name} - No rules generated\")\n",
        "\n",
        "        return frequent_itemsets, rules\n",
        "\n",
        "    except Exception as e:\n",
        "        print(f\"Error in {level_name}: {e}\")\n",
        "        return pd.DataFrame(), pd.DataFrame()\n",
        "\n",
        "print(\"Mining rules with ULTRA CONSERVATIVE parameters...\")\n",
        "\n",
        "# Department level - most conservative\n",
        "freq_dept, rules_dept = mine_ultra_conservative_rules(\n",
        "    transactions_department,\n",
        "    \"Department\",\n",
        "    min_support=0.05,    # Higher support\n",
        "    min_confidence=0.6,  # Higher confidence\n",
        "    max_items=2,\n",
        "    sample_size=2000     # Very small sample\n",
        ")\n",
        "\n",
        "# Brand level - conservative\n",
        "freq_brand, rules_brand = mine_ultra_conservative_rules(\n",
        "    transactions_brand,\n",
        "    \"Brand\",\n",
        "    min_support=0.04,\n",
        "    min_confidence=0.5,\n",
        "    max_items=2,\n",
        "    sample_size=2000\n",
        ")\n",
        "\n",
        "# Product level - most aggressive sampling\n",
        "freq_product, rules_product = mine_ultra_conservative_rules(\n",
        "    transactions_product,\n",
        "    \"Product\",\n",
        "    min_support=0.03,\n",
        "    min_confidence=0.4,\n",
        "    max_items=2,\n",
        "    sample_size=1500     # Smallest sample\n",
        ")\n",
        "\n",
        "# All levels - very conservative\n",
        "freq_all, rules_all = mine_ultra_conservative_rules(\n",
        "    transactions_all_levels,\n",
        "    \"All Levels\",\n",
        "    min_support=0.04,\n",
        "    min_confidence=0.5,\n",
        "    max_items=2,\n",
        "    sample_size=1500\n",
        ")"
      ],
      "metadata": {
        "colab": {
          "base_uri": "https://localhost:8080/"
        },
        "id": "_MY4ADmcoeOs",
        "outputId": "b62da344-a325-43e7-c4b7-f707ea3b64e8"
      },
      "execution_count": 6,
      "outputs": [
        {
          "output_type": "stream",
          "name": "stdout",
          "text": [
            "Mining rules with ULTRA CONSERVATIVE parameters...\n",
            "Sampled down to 2000 transactions for Department\n",
            "Department - Transaction matrix: (2000, 21)\n",
            "Department - Found 150 frequent itemsets\n",
            "Department - Generated 50 rules\n",
            "Sampled down to 2000 transactions for Brand\n",
            "Brand - Transaction matrix: (2000, 2225)\n",
            "Brand - Found 41 frequent itemsets\n",
            "Brand - Generated 0 rules\n",
            "Sampled down to 1500 transactions for Product\n",
            "Product - Transaction matrix: (1500, 6421)\n",
            "Product - Found 9 frequent itemsets\n",
            "Product - Generated 0 rules\n",
            "Sampled down to 1500 transactions for All Levels\n",
            "All Levels - Transaction matrix: (1500, 5276)\n",
            "All Levels - Found 19 frequent itemsets\n",
            "All Levels - Generated 0 rules\n"
          ]
        }
      ]
    },
    {
      "cell_type": "code",
      "source": [
        "def analyze_rules_fast(rules, level_name, max_rules=8):\n",
        "    \"\"\"Analyze rules quickly without heavy processing\"\"\"\n",
        "    print(f\"\\n{'='*50}\")\n",
        "    print(f\"ASSOCIATION RULES - {level_name.upper()} LEVEL\")\n",
        "    print(f\"{'='*50}\")\n",
        "\n",
        "    if len(rules) > 0:\n",
        "        # Sort and take top rules quickly\n",
        "        rules_sorted = rules.sort_values(['confidence', 'lift'], ascending=[False, False]).head(max_rules)\n",
        "\n",
        "        print(f\"Total rules found: {len(rules)}\")\n",
        "        print(f\"Showing top {min(len(rules_sorted), max_rules)} rules by confidence:\")\n",
        "\n",
        "        for i, (idx, rule) in enumerate(rules_sorted.iterrows()):\n",
        "            antecedents = list(rule['antecedents'])[:2]  # Limit display\n",
        "            consequents = list(rule['consequents'])[:2]\n",
        "            print(f\"{i+1}. IF {antecedents} THEN {consequents}\")\n",
        "            print(f\"   Support: {rule['support']:.4f}, Confidence: {rule['confidence']:.4f}, Lift: {rule['lift']:.4f}\")\n",
        "    else:\n",
        "        print(\"No significant rules found at this level\")\n",
        "\n",
        "    return rules.head(max_rules) if len(rules) > 0 else rules\n",
        "\n",
        "# Analyze rules efficiently\n",
        "print(\"Analyzing rules with FAST method...\")\n",
        "rules_dept_analyzed = analyze_rules_fast(rules_dept, \"department\")\n",
        "rules_brand_analyzed = analyze_rules_fast(rules_brand, \"brand\")\n",
        "rules_product_analyzed = analyze_rules_fast(rules_product, \"product\")\n",
        "rules_all_analyzed = analyze_rules_fast(rules_all, \"all levels\")"
      ],
      "metadata": {
        "colab": {
          "base_uri": "https://localhost:8080/"
        },
        "id": "r1BIEhPbpmFF",
        "outputId": "2d675890-ebfd-4383-fa6d-337644ae7369"
      },
      "execution_count": 7,
      "outputs": [
        {
          "output_type": "stream",
          "name": "stdout",
          "text": [
            "Analyzing rules with FAST method...\n",
            "\n",
            "==================================================\n",
            "ASSOCIATION RULES - DEPARTMENT LEVEL\n",
            "==================================================\n",
            "Total rules found: 50\n",
            "Showing top 8 rules by confidence:\n",
            "1. IF ['DEPT_frozen'] THEN ['DEPT_dairy eggs']\n",
            "   Support: 0.5075, Confidence: 0.7917, Lift: 1.0157\n",
            "2. IF ['DEPT_beverages'] THEN ['DEPT_dairy eggs']\n",
            "   Support: 0.5455, Confidence: 0.7889, Lift: 1.0120\n",
            "3. IF ['DEPT_bakery'] THEN ['DEPT_produce']\n",
            "   Support: 0.4320, Confidence: 0.7826, Lift: 1.0085\n",
            "4. IF ['DEPT_deli'] THEN ['DEPT_dairy eggs']\n",
            "   Support: 0.4035, Confidence: 0.7820, Lift: 1.0032\n",
            "5. IF ['DEPT_dry goods pasta'] THEN ['DEPT_dairy eggs']\n",
            "   Support: 0.3895, Confidence: 0.7782, Lift: 0.9984\n",
            "6. IF ['DEPT_bakery'] THEN ['DEPT_dairy eggs']\n",
            "   Support: 0.4290, Confidence: 0.7772, Lift: 0.9970\n",
            "7. IF ['DEPT_canned goods'] THEN ['DEPT_produce']\n",
            "   Support: 0.4100, Confidence: 0.7758, Lift: 0.9997\n",
            "8. IF ['DEPT_canned goods'] THEN ['DEPT_dairy eggs']\n",
            "   Support: 0.4085, Confidence: 0.7729, Lift: 0.9916\n",
            "\n",
            "==================================================\n",
            "ASSOCIATION RULES - BRAND LEVEL\n",
            "==================================================\n",
            "No significant rules found at this level\n",
            "\n",
            "==================================================\n",
            "ASSOCIATION RULES - PRODUCT LEVEL\n",
            "==================================================\n",
            "No significant rules found at this level\n",
            "\n",
            "==================================================\n",
            "ASSOCIATION RULES - ALL LEVELS LEVEL\n",
            "==================================================\n",
            "No significant rules found at this level\n"
          ]
        }
      ]
    },
    {
      "cell_type": "code",
      "source": [
        "def find_cross_level_rules_fast(rules_all, max_rules=10):\n",
        "    \"\"\"Find cross-level rules quickly\"\"\"\n",
        "    if len(rules_all) == 0:\n",
        "        print(\"No rules to analyze for cross-level patterns\")\n",
        "        return pd.DataFrame()\n",
        "\n",
        "    cross_level_rules = []\n",
        "\n",
        "    for idx, rule in rules_all.iterrows():\n",
        "        if len(cross_level_rules) >= max_rules:\n",
        "            break\n",
        "\n",
        "        antecedents = list(rule['antecedents'])\n",
        "        consequents = list(rule['consequents'])\n",
        "\n",
        "        # Check if rule crosses levels\n",
        "        antecedent_levels = set([item.split('_')[0] for item in antecedents])\n",
        "        consequent_levels = set([item.split('_')[0] for item in consequents])\n",
        "\n",
        "        if len(antecedent_levels) > 1 or len(consequent_levels) > 1 or antecedent_levels != consequent_levels:\n",
        "            cross_level_rules.append(rule)\n",
        "\n",
        "    result = pd.DataFrame(cross_level_rules)\n",
        "    print(f\"Found {len(result)} cross-level rules\")\n",
        "    return result\n",
        "\n",
        "# Find cross-level rules quickly\n",
        "cross_level_rules = find_cross_level_rules_fast(rules_all_analyzed)\n",
        "\n",
        "if len(cross_level_rules) > 0:\n",
        "    print(f\"\\nTOP CROSS-LEVEL RULES:\")\n",
        "    for i, (idx, rule) in enumerate(cross_level_rules.head(5).iterrows()):\n",
        "        antecedents = list(rule['antecedents'])\n",
        "        consequents = list(rule['consequents'])\n",
        "        print(f\"{i+1}. IF {antecedents} THEN {consequents}\")\n",
        "        print(f\"   Confidence: {rule['confidence']:.3f}, Lift: {rule['lift']:.3f}\")"
      ],
      "metadata": {
        "colab": {
          "base_uri": "https://localhost:8080/"
        },
        "id": "-TQa43vcprdT",
        "outputId": "4e71d904-73d3-4ddc-c04e-38806f2a0398"
      },
      "execution_count": 8,
      "outputs": [
        {
          "output_type": "stream",
          "name": "stdout",
          "text": [
            "No rules to analyze for cross-level patterns\n"
          ]
        }
      ]
    },
    {
      "cell_type": "code",
      "source": [
        "def create_fast_visualizations(rules_dept, rules_brand, rules_product, cross_level_rules):\n",
        "    \"\"\"Create quick visualizations without heavy processing\"\"\"\n",
        "\n",
        "    fig, axes = plt.subplots(2, 2, figsize=(12, 10))\n",
        "\n",
        "    # 1. Rules count by level\n",
        "    rules_count = [\n",
        "        len(rules_dept) if len(rules_dept) > 0 else 0,\n",
        "        len(rules_brand) if len(rules_brand) > 0 else 0,\n",
        "        len(rules_product) if len(rules_product) > 0 else 0,\n",
        "        len(cross_level_rules) if len(cross_level_rules) > 0 else 0\n",
        "    ]\n",
        "    levels = ['Department', 'Brand', 'Product', 'Cross-Level']\n",
        "\n",
        "    bars = axes[0,0].bar(levels, rules_count, color=['skyblue', 'lightgreen', 'lightcoral', 'gold'])\n",
        "    axes[0,0].set_title('Number of Rules by Level')\n",
        "    axes[0,0].tick_params(axis='x', rotation=45)\n",
        "    # Add value labels on bars\n",
        "    for bar, count in zip(bars, rules_count):\n",
        "        axes[0,0].text(bar.get_x() + bar.get_width()/2, bar.get_height() + 0.1,\n",
        "                      str(count), ha='center', va='bottom')\n",
        "\n",
        "    # 2. Top departments (pre-computed)\n",
        "    dept_counts = order_hierarchy['department'].value_counts().head(6)\n",
        "    axes[0,1].barh(range(len(dept_counts)), dept_counts.values, color='lightblue')\n",
        "    axes[0,1].set_yticks(range(len(dept_counts)))\n",
        "    axes[0,1].set_yticklabels([dept[:12] + '...' if len(dept) > 12 else dept for dept in dept_counts.index])\n",
        "    axes[0,1].set_title('Top 6 Departments')\n",
        "    axes[0,1].set_xlabel('Purchase Count')\n",
        "\n",
        "    # 3. Rule quality metrics\n",
        "    metrics_data = {}\n",
        "    if len(rules_dept) > 0:\n",
        "        metrics_data['Dept'] = [rules_dept['confidence'].mean(), rules_dept['lift'].mean()]\n",
        "    if len(rules_brand) > 0:\n",
        "        metrics_data['Brand'] = [rules_brand['confidence'].mean(), rules_brand['lift'].mean()]\n",
        "    if len(rules_product) > 0:\n",
        "        metrics_data['Product'] = [rules_product['confidence'].mean(), rules_product['lift'].mean()]\n",
        "\n",
        "    if metrics_data:\n",
        "        x = range(len(metrics_data))\n",
        "        confidences = [metrics_data[key][0] for key in metrics_data]\n",
        "        lifts = [metrics_data[key][1] for key in metrics_data]\n",
        "\n",
        "        width = 0.35\n",
        "        axes[1,0].bar(x, confidences, width, label='Avg Confidence', color='lightgreen', alpha=0.7)\n",
        "        axes[1,0].bar([i + width for i in x], lifts, width, label='Avg Lift', color='orange', alpha=0.7)\n",
        "        axes[1,0].set_xticks([i + width/2 for i in x])\n",
        "        axes[1,0].set_xticklabels(metrics_data.keys())\n",
        "        axes[1,0].set_title('Rule Quality by Level')\n",
        "        axes[1,0].legend()\n",
        "\n",
        "    # 4. Cross-level rules strength\n",
        "    if len(cross_level_rules) > 0:\n",
        "        top_cross = cross_level_rules.head(3)\n",
        "        rule_labels = [f\"Rule {i+1}\" for i in range(len(top_cross))]\n",
        "        confidences = top_cross['confidence'].values\n",
        "        lifts = top_cross['lift'].values\n",
        "\n",
        "        x = np.arange(len(rule_labels))\n",
        "        width = 0.35\n",
        "\n",
        "        axes[1,1].bar(x - width/2, confidences, width, label='Confidence', color='purple', alpha=0.7)\n",
        "        axes[1,1].bar(x + width/2, lifts, width, label='Lift', color='red', alpha=0.7)\n",
        "        axes[1,1].set_xticks(x)\n",
        "        axes[1,1].set_xticklabels(rule_labels)\n",
        "        axes[1,1].set_title('Top Cross-Level Rules\\nQuality Metrics')\n",
        "        axes[1,1].legend()\n",
        "    else:\n",
        "        axes[1,1].text(0.5, 0.5, 'No Cross-Level\\nRules Found',\n",
        "                      ha='center', va='center', transform=axes[1,1].transAxes, fontsize=12)\n",
        "        axes[1,1].set_title('Cross-Level Rules')\n",
        "\n",
        "    plt.tight_layout()\n",
        "    plt.show()\n",
        "\n",
        "# Create fast visualizations\n",
        "print(\"Creating fast visualizations...\")\n",
        "create_fast_visualizations(rules_dept, rules_brand, rules_product, cross_level_rules)"
      ],
      "metadata": {
        "colab": {
          "base_uri": "https://localhost:8080/",
          "height": 928
        },
        "id": "eoDJebf-ptx7",
        "outputId": "26a7eaa7-07e0-4500-a586-1d4fe0aae302"
      },
      "execution_count": 9,
      "outputs": [
        {
          "output_type": "stream",
          "name": "stdout",
          "text": [
            "Creating fast visualizations...\n"
          ]
        },
        {
          "output_type": "display_data",
          "data": {
            "text/plain": [
              "<Figure size 1200x1000 with 4 Axes>"
            ],
            "image/png": "[encoded data removed]"
          },
          "metadata": {}
        }
      ]
    },
    {
      "cell_type": "code",
      "source": [
        "# Clean up memory efficiently\n",
        "def cleanup_memory():\n",
        "    \"\"\"Clean up large objects to free memory\"\"\"\n",
        "    large_objects = ['transactions_department', 'transactions_brand', 'transactions_product',\n",
        "                    'transactions_all_levels', 'order_products_prior', 'orders']\n",
        "\n",
        "    for obj in large_objects:\n",
        "        if obj in globals():\n",
        "            del globals()[obj]\n",
        "            print(f\"Deleted {obj}\")\n",
        "\n",
        "    import gc\n",
        "    gc.collect()\n",
        "    print(\"Memory cleanup completed!\")\n",
        "\n",
        "# Run cleanup\n",
        "cleanup_memory()"
      ],
      "metadata": {
        "colab": {
          "base_uri": "https://localhost:8080/"
        },
        "id": "TG0rPeV8pyey",
        "outputId": "94662650-2589-4ae9-9927-34a127d38116"
      },
      "execution_count": 10,
      "outputs": [
        {
          "output_type": "stream",
          "name": "stdout",
          "text": [
            "Deleted transactions_department\n",
            "Deleted transactions_brand\n",
            "Deleted transactions_product\n",
            "Deleted transactions_all_levels\n",
            "Deleted order_products_prior\n",
            "Deleted orders\n",
            "Memory cleanup completed!\n"
          ]
        }
      ]
    },
    {
      "cell_type": "code",
      "source": [
        "def generate_fast_insights():\n",
        "    \"\"\"Generate quick insights without heavy processing\"\"\"\n",
        "\n",
        "    print(\"=\"*70)\n",
        "    print(\"MULTILEVEL ASSOCIATION RULES - KEY INSIGHTS\")\n",
        "    print(\"=\"*70)\n",
        "\n",
        "    # Quick stats\n",
        "    total_rules = (len(rules_dept_analyzed) + len(rules_brand_analyzed) +\n",
        "                   len(rules_product_analyzed) + len(cross_level_rules))\n",
        "\n",
        "    print(f\"\\nQUICK SUMMARY:\")\n",
        "    print(f\"• Total rules discovered: {total_rules}\")\n",
        "    print(f\"• Department-level rules: {len(rules_dept_analyzed)}\")\n",
        "    print(f\"• Brand-level rules: {len(rules_brand_analyzed)}\")\n",
        "    print(f\"• Product-level rules: {len(rules_product_analyzed)}\")\n",
        "    print(f\"• Cross-level rules: {len(cross_level_rules)}\")\n",
        "\n",
        "    print(f\"\\nUNIQUE MULTILEVEL INSIGHTS:\")\n",
        "    if len(cross_level_rules) > 0:\n",
        "        print(\"✓ Found hierarchical shopping patterns across levels\")\n",
        "        best_cross = cross_level_rules.iloc[0] if len(cross_level_rules) > 0 else None\n",
        "        if best_cross is not None:\n",
        "            print(f\"  Example: {list(best_cross['antecedents'])} → {list(best_cross['consequents'])}\")\n",
        "            print(f\"  (Confidence: {best_cross['confidence']:.3f})\")\n",
        "    else:\n",
        "        print(\"✓ Strong patterns found within individual hierarchy levels\")\n",
        "\n",
        "    print(f\"\\nBUSINESS IMPLICATIONS:\")\n",
        "    if len(rules_dept_analyzed) > 0:\n",
        "        print(\"• Department rules → Store layout optimization\")\n",
        "    if len(rules_brand_analyzed) > 0:\n",
        "        print(\"• Brand rules → Vendor partnership strategies\")\n",
        "    if len(cross_level_rules) > 0:\n",
        "        print(\"• Cross-level rules → Targeted marketing campaigns\")\n",
        "\n",
        "    # Show strongest rule from each level\n",
        "    print(f\"\\nSTRONGEST RULES BY LEVEL:\")\n",
        "    levels_data = [\n",
        "        (\"Department\", rules_dept_analyzed),\n",
        "        (\"Brand\", rules_brand_analyzed),\n",
        "        (\"Product\", rules_product_analyzed)\n",
        "    ]\n",
        "\n",
        "    for level_name, rules in levels_data:\n",
        "        if len(rules) > 0:\n",
        "            best_rule = rules.iloc[0]\n",
        "            print(f\"• {level_name}: {list(best_rule['antecedents'])[:1]} → {list(best_rule['consequents'])[:1]}\")\n",
        "            print(f\"  Confidence: {best_rule['confidence']:.3f}\")\n",
        "\n",
        "generate_fast_insights()"
      ],
      "metadata": {
        "colab": {
          "base_uri": "https://localhost:8080/"
        },
        "id": "gvKK415Yp1Vj",
        "outputId": "25718f6b-2caf-4821-b576-05719dab5f93"
      },
      "execution_count": 11,
      "outputs": [
        {
          "output_type": "stream",
          "name": "stdout",
          "text": [
            "======================================================================\n",
            "MULTILEVEL ASSOCIATION RULES - KEY INSIGHTS\n",
            "======================================================================\n",
            "\n",
            "QUICK SUMMARY:\n",
            "• Total rules discovered: 8\n",
            "• Department-level rules: 8\n",
            "• Brand-level rules: 0\n",
            "• Product-level rules: 0\n",
            "• Cross-level rules: 0\n",
            "\n",
            "UNIQUE MULTILEVEL INSIGHTS:\n",
            "✓ Strong patterns found within individual hierarchy levels\n",
            "\n",
            "BUSINESS IMPLICATIONS:\n",
            "• Department rules → Store layout optimization\n",
            "\n",
            "STRONGEST RULES BY LEVEL:\n",
            "• Department: ['DEPT_babies'] → ['DEPT_beverages']\n",
            "  Confidence: 0.641\n"
          ]
        }
      ]
    }
  ]
}